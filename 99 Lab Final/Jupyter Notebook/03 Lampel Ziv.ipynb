{
 "cells": [
  {
   "cell_type": "code",
   "execution_count": 1,
   "metadata": {},
   "outputs": [],
   "source": [
    "def lz78_compress(data):\n",
    "    dictionary = {}\n",
    "    compressed_data = []\n",
    "    current_string = \"\"\n",
    "    dict_size = 1  # Start dictionary indexing from 1\n",
    "    print(\"Subsequences and Dictionary Entries:\")\n",
    "\n",
    "    for char in data:\n",
    "        current_string += char\n",
    "        if current_string not in dictionary:\n",
    "            # Add the current string to the dictionary\n",
    "            dictionary[current_string] = dict_size\n",
    "            dict_size += 1\n",
    "\n",
    "            # Output a tuple (index of previous string, new character)\n",
    "            if len(current_string) == 1:\n",
    "                compressed_data.append((0, current_string))\n",
    "                print(f\"Added '{current_string}' as (0, '{current_string}')\")\n",
    "            else:\n",
    "                compressed_data.append((dictionary[current_string[:-1]], current_string[-1]))\n",
    "                print(f\"Added '{current_string}' as ({dictionary[current_string[:-1]]}, '{current_string[-1]}')\")\n",
    "\n",
    "            # Reset current_string for the next sequence\n",
    "            current_string = \"\"\n",
    "\n",
    "    # If there's any leftover in current_string, add it\n",
    "    if current_string:\n",
    "        compressed_data.append((dictionary[current_string[:-1]], current_string[-1]))\n",
    "        print(f\"Added leftover '{current_string}' as ({dictionary[current_string[:-1]]}, '{current_string[-1]}')\")\n",
    "\n",
    "    return compressed_data"
   ]
  },
  {
   "cell_type": "code",
   "execution_count": 5,
   "metadata": {},
   "outputs": [],
   "source": [
    "def lz78_decompress(compressed_data):\n",
    "    dictionary = {0: \"\"}  # Initialize dictionary with an empty prefix at index 0\n",
    "    decompressed_data = []\n",
    "    dict_size = 1\n",
    "\n",
    "    for index, char in compressed_data:\n",
    "        entry = dictionary[index] + char\n",
    "        decompressed_data.append(entry)\n",
    "\n",
    "        # Add new entry to the dictionary\n",
    "        dictionary[dict_size] = entry\n",
    "        dict_size += 1\n",
    "\n",
    "    return ''.join(decompressed_data)\n"
   ]
  },
  {
   "cell_type": "code",
   "execution_count": 6,
   "metadata": {},
   "outputs": [
    {
     "name": "stdout",
     "output_type": "stream",
     "text": [
      "Subsequences and Dictionary Entries:\n",
      "Added '1' as (0, '1')\n",
      "Added '0' as (0, '0')\n",
      "Added '10' as (1, '0')\n",
      "Added '11' as (1, '1')\n",
      "Added '00' as (2, '0')\n",
      "Added leftover '10' as (1, '0')\n",
      "\n",
      "Compressed: [(0, '1'), (0, '0'), (1, '0'), (1, '1'), (2, '0'), (1, '0')]\n",
      "Decompressed: 1010110010\n",
      "Decompression successful! The data matches the original input.\n"
     ]
    }
   ],
   "source": [
    "# Main program with user input\n",
    "input_data = input(\"Enter data (binary or characters): \")\n",
    "\n",
    "# Compress\n",
    "compressed = lz78_compress(input_data)\n",
    "print(\"\\nCompressed:\", compressed)\n",
    "\n",
    "# Decompress\n",
    "decompressed = lz78_decompress(compressed)\n",
    "print(\"Decompressed:\", decompressed)\n",
    "\n",
    "# Verify correctness\n",
    "if decompressed == input_data:\n",
    "    print(\"Decompression successful! The data matches the original input.\")\n",
    "else:\n",
    "    print(\"Decompression failed! The data does not match the original input.\")"
   ]
  }
 ],
 "metadata": {
  "kernelspec": {
   "display_name": "Cryptography",
   "language": "python",
   "name": "cryptography"
  },
  "language_info": {
   "codemirror_mode": {
    "name": "ipython",
    "version": 3
   },
   "file_extension": ".py",
   "mimetype": "text/x-python",
   "name": "python",
   "nbconvert_exporter": "python",
   "pygments_lexer": "ipython3",
   "version": "3.9.0"
  }
 },
 "nbformat": 4,
 "nbformat_minor": 2
}
