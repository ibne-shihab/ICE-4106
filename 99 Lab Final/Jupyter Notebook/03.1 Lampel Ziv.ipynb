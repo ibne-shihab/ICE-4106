{
 "cells": [
  {
   "cell_type": "code",
   "execution_count": null,
   "metadata": {},
   "outputs": [],
   "source": [
    "def lz78_compress(data):\n",
    "    dictionary = {}\n",
    "    compressed_data = []\n",
    "    current_string = \"\"\n",
    "    dict_size = 1  # Start dictionary indexing from 1\n",
    "    print(\"Num Pos\\tSubsequence\\tNum Represent\")\n",
    "    for i, char in enumerate(data):\n",
    "        current_string += char\n",
    "        if current_string not in dictionary:\n",
    "            # Add the current string to the dictionary\n",
    "            dictionary[current_string] = dict_size\n",
    "            previous_index = dictionary.get(current_string[:-1], 0)\n",
    "            dict_size += 1\n",
    "            # Record the compressed pair (index of prefix, next character)\n",
    "            compressed_data.append((previous_index, char))\n",
    "            # Print the details\n",
    "            print(f\"{dict_size-1}\\t\\t{current_string}\\t\\t({previous_index}, '{char}')\")\n",
    "            # Reset current_string for the next sequence\n",
    "            current_string = \"\"\n",
    "    return compressed_data"
   ]
  },
  {
   "cell_type": "code",
   "execution_count": null,
   "metadata": {},
   "outputs": [
    {
     "name": "stdout",
     "output_type": "stream",
     "text": [
      "Num Pos\tSubsequence\tNum Represent\n",
      "1\t\t1\t\t(0, '1')\n",
      "2\t\t0\t\t(0, '0')\n",
      "3\t\t11\t\t(1, '1')\n",
      "4\t\t00\t\t(2, '0')\n",
      "5\t\t10\t\t(1, '0')\n",
      "6\t\t110\t\t(3, '0')\n",
      "\n",
      "Compressed: [(0, '1'), (0, '0'), (1, '1'), (2, '0'), (1, '0'), (3, '0')]\n",
      "Decompressed: 10110010110\n",
      "Decompression successful! The data matches the original input.\n"
     ]
    }
   ],
   "source": [
    "\n",
    "def lz78_decompress(compressed_data):\n",
    "    dictionary = {0: \"\"}  # Initialize dictionary with an empty prefix at index 0\n",
    "    decompressed_data = []\n",
    "    dict_size = 1\n",
    "    for index, char in compressed_data:\n",
    "        entry = dictionary[index] + char\n",
    "        decompressed_data.append(entry)\n",
    "        # Add new entry to the dictionary\n",
    "        dictionary[dict_size] = entry\n",
    "        dict_size += 1\n",
    "    return ''.join(decompressed_data)\n",
    "# Main program with user input\n",
    "input_data = input(\"Enter data (binary or characters): \")\n",
    "# Compress\n",
    "compressed = lz78_compress(input_data)\n",
    "print(\"\\nCompressed:\", compressed)\n",
    "# Decompress\n",
    "decompressed = lz78_decompress(compressed)\n",
    "print(\"Decompressed:\", decompressed)\n",
    "# Verify correctness\n",
    "if decompressed == input_data:\n",
    "    print(\"Decompression successful! The data matches the original input.\")\n",
    "else:\n",
    "    print(\"Decompression failed! The data does not match the original input.\")\n"
   ]
  }
 ],
 "metadata": {
  "kernelspec": {
   "display_name": "Cryptography",
   "language": "python",
   "name": "cryptography"
  },
  "language_info": {
   "codemirror_mode": {
    "name": "ipython",
    "version": 3
   },
   "file_extension": ".py",
   "mimetype": "text/x-python",
   "name": "python",
   "nbconvert_exporter": "python",
   "pygments_lexer": "ipython3",
   "version": "3.9.0"
  }
 },
 "nbformat": 4,
 "nbformat_minor": 2
}
