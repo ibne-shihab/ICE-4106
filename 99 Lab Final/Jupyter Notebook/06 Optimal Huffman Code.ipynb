{
 "cells": [
  {
   "cell_type": "code",
   "execution_count": 1,
   "metadata": {},
   "outputs": [],
   "source": [
    "import heapq\n",
    "import numpy as np\n",
    "import math"
   ]
  },
  {
   "cell_type": "code",
   "execution_count": 2,
   "metadata": {},
   "outputs": [],
   "source": [
    "# Step 1: Define a class to create nodes for the Huffman tree\n",
    "class HuffmanNode:\n",
    "    def __init__(self, symbol, freq):\n",
    "        self.symbol = symbol     # Symbol (like 'A', 'B', etc.)\n",
    "        self.freq = freq         # Frequency (or probability) of the symbol\n",
    "        self.left = None         # Left child\n",
    "        self.right = None        # Right child\n",
    "    # This method is required by heapq to compare nodes based on frequency\n",
    "    def __lt__(self, other):\n",
    "        return self.freq < other.freq"
   ]
  },
  {
   "cell_type": "code",
   "execution_count": 3,
   "metadata": {},
   "outputs": [],
   "source": [
    "# Step 2: Build the Huffman tree\n",
    "def build_huffman_tree(symbols):\n",
    "    # Initialize a heap with nodes for each symbol\n",
    "    heap = [HuffmanNode(symbol, freq) for symbol, freq in symbols]\n",
    "    heapq.heapify(heap)  # Create a min-heap based on frequencies\n",
    "    # Combine nodes until only one tree remains\n",
    "    while len(heap) > 1:\n",
    "        # Remove the two nodes with the smallest frequencies\n",
    "        left = heapq.heappop(heap)\n",
    "        right = heapq.heappop(heap)\n",
    "        # Create a new node with the combined frequency\n",
    "        merged = HuffmanNode(None, left.freq + right.freq)\n",
    "        merged.left = left    # Set left and right children\n",
    "        merged.right = right\n",
    "        # Add the merged node back into the heap\n",
    "        heapq.heappush(heap, merged)\n",
    "    # The remaining node is the root of the Huffman tree\n",
    "    return heap[0]\n"
   ]
  },
  {
   "cell_type": "code",
   "execution_count": 4,
   "metadata": {},
   "outputs": [],
   "source": [
    "# Step 3: Generate Huffman codes by traversing the tree\n",
    "def generate_huffman_codes(node, prefix=\"\", codebook={}):\n",
    "    # If the node is a leaf (has a symbol), add it to the codebook\n",
    "    if node.symbol is not None:\n",
    "        codebook[node.symbol] = prefix\n",
    "    else:\n",
    "        # Traverse left and right, adding '0' for left and '1' for right\n",
    "        generate_huffman_codes(node.left, prefix + \"1\", codebook)\n",
    "        generate_huffman_codes(node.right, prefix + \"0\", codebook)\n",
    "    return codebook"
   ]
  },
  {
   "cell_type": "code",
   "execution_count": 5,
   "metadata": {},
   "outputs": [
    {
     "name": "stdout",
     "output_type": "stream",
     "text": [
      "Huffman Codes for each symbol:\n",
      "D: 11\n",
      "E: 10\n",
      "F: 01\n",
      "C: 001\n",
      "A: 0001\n",
      "B: 0000\n"
     ]
    }
   ],
   "source": [
    "# Example usage\n",
    "symbols = [(\"F\", 0.27),(\"E\", 0.23),(\"D\", 0.2),(\"C\", 0.15),(\"B\", 0.1),  (\"A\", 0.05) ]\n",
    "root = build_huffman_tree(symbols)\n",
    "huffman_codes = generate_huffman_codes(root)\n",
    "\n",
    "# Display Huffman codes for each symbol\n",
    "print(\"Huffman Codes for each symbol:\")\n",
    "for symbol, code in huffman_codes.items():\n",
    "    print(f\"{symbol}: {code}\")"
   ]
  },
  {
   "cell_type": "code",
   "execution_count": 6,
   "metadata": {},
   "outputs": [],
   "source": [
    "def calculate_entropy(symbols):\n",
    "    return -sum(freq * math.log2(freq) for _, freq in symbols if freq > 0)"
   ]
  },
  {
   "cell_type": "code",
   "execution_count": 7,
   "metadata": {},
   "outputs": [],
   "source": [
    "entropy = calculate_entropy(symbols)\n",
    "avg_length = sum(freq * len(huffman_codes[symbol]) for symbol, freq in symbols)\n"
   ]
  },
  {
   "cell_type": "code",
   "execution_count": null,
   "metadata": {},
   "outputs": [
    {
     "name": "stdout",
     "output_type": "stream",
     "text": [
      "\n",
      "Entropy: 2.4209\n",
      "Average Huffman Code Length: 2.4500\n",
      "Huffman Code is Optimal: True\n"
     ]
    }
   ],
   "source": [
    "print(f\"\\nEntropy: {entropy:.4f}\")\n",
    "print(f\"Average Huffman Code Length: {avg_length:.4f}\")\n",
    "tolerance = 0.1  # Allow a small tolerance for practical overhead\n",
    "print(\"Huffman Code is Optimal:\", avg_length <= entropy + tolerance)"
   ]
  }
 ],
 "metadata": {
  "kernelspec": {
   "display_name": "Cryptography",
   "language": "python",
   "name": "cryptography"
  },
  "language_info": {
   "codemirror_mode": {
    "name": "ipython",
    "version": 3
   },
   "file_extension": ".py",
   "mimetype": "text/x-python",
   "name": "python",
   "nbconvert_exporter": "python",
   "pygments_lexer": "ipython3",
   "version": "3.9.0"
  }
 },
 "nbformat": 4,
 "nbformat_minor": 2
}
