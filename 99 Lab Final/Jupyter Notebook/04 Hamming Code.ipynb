{
 "cells": [
  {
   "cell_type": "code",
   "execution_count": null,
   "metadata": {},
   "outputs": [],
   "source": [
    "def calculate_parity_bits(data_bits):\n",
    "    p1 = data_bits[0] ^ data_bits[1] ^ data_bits[3]  # Parity bit for positions 1, 3, 5, 7\n",
    "    p2 = data_bits[0] ^ data_bits[2] ^ data_bits[3]  # Parity bit for positions 2, 3, 6, 7\n",
    "    p3 = data_bits[1] ^ data_bits[2] ^ data_bits[3]  # Parity bit for positions 4, 5, 6, 7\n",
    "    return [p1, p2, p3]"
   ]
  },
  {
   "cell_type": "code",
   "execution_count": 2,
   "metadata": {},
   "outputs": [],
   "source": [
    "def encode_hamming(data_bits):\n",
    "    # Calculate parity bits\n",
    "    p1, p2, p3 = calculate_parity_bits(data_bits)\n",
    "    # Arrange parity and data bits as follows: p1, p2, d1, p3, d2, d3, d4\n",
    "    # Positions:       1   2   3   4   5   6   7\n",
    "    codeword = [p1, p2] + [data_bits[0]] + [p3] + data_bits[1:]\n",
    "    return codeword"
   ]
  },
  {
   "cell_type": "code",
   "execution_count": 3,
   "metadata": {},
   "outputs": [
    {
     "name": "stdout",
     "output_type": "stream",
     "text": [
      "Encoded Hamming Codeword to Transmit: [0, 1, 1, 0, 0, 1, 1]\n"
     ]
    }
   ],
   "source": [
    "# Input 4 data bits to transmit\n",
    "data_bits = list(map(int, input(\"Enter 4 data bits separated by spaces: \").split()))\n",
    "# Encode the data bits into a Hamming codeword\n",
    "encoded_codeword = encode_hamming(data_bits)\n",
    "print(\"Encoded Hamming Codeword to Transmit:\", encoded_codeword)"
   ]
  },
  {
   "cell_type": "code",
   "execution_count": 4,
   "metadata": {},
   "outputs": [],
   "source": [
    "def decode_hamming(received_codeword):\n",
    "    # Extract bits from the received codeword\n",
    "    p1, p2, d1, p3, d2, d3, d4 = received_codeword\n",
    "\n",
    "    # Recalculate parity bits to check for errors\n",
    "    c1 = p1 ^ d1 ^ d2 ^ d4  # Checks parity for positions 1, 3, 5, 7\n",
    "    c2 = p2 ^ d1 ^ d3 ^ d4  # Checks parity for positions 2, 3, 6, 7\n",
    "    c3 = p3 ^ d2 ^ d3 ^ d4  # Checks parity for positions 4, 5, 6, 7\n",
    "\n",
    "    # Determine error position (0 means no error)\n",
    "    error_position = (c3 << 2) | (c2 << 1) | c1\n",
    "\n",
    "    # Correct error if detected\n",
    "    corrected_codeword = received_codeword.copy()\n",
    "    if error_position != 0:\n",
    "        corrected_codeword[error_position - 1] ^= 1  # Flip the erroneous bit\n",
    "\n",
    "    # Extract original data bits (d1, d2, d3, d4) from the corrected codeword\n",
    "    corrected_data_bits = [corrected_codeword[2], corrected_codeword[4], corrected_codeword[5], corrected_codeword[6]]\n",
    "    return corrected_data_bits, error_position\n"
   ]
  },
  {
   "cell_type": "code",
   "execution_count": 6,
   "metadata": {},
   "outputs": [],
   "source": [
    "# Simulate receiving bits (with or without errors)\n",
    "received_codeword = list(map(int, input(\"Enter received 7-bit codeword separated by spaces: \").split()))"
   ]
  },
  {
   "cell_type": "code",
   "execution_count": null,
   "metadata": {},
   "outputs": [
    {
     "name": "stdout",
     "output_type": "stream",
     "text": [
      "Corrected Data Bits: [1, 0, 1, 1]\n",
      "Error Position (1-7, 0 means no error): 7\n",
      "Error detected and corrected at position 7.\n"
     ]
    }
   ],
   "source": [
    "# Decode and correct the received codeword\n",
    "corrected_data, error_position = decode_hamming(received_codeword)\n",
    "print(\"Corrected Data Bits:\", corrected_data)\n",
    "print(\"Error Position (1-7, 0 means no error):\", error_position)\n",
    "\n",
    "# Display correction result\n",
    "if error_position == 0:\n",
    "    print(\"No error detected in the received codeword.\")\n",
    "else:\n",
    "    print(f\"Error detected and corrected at position {error_position}.\")"
   ]
  }
 ],
 "metadata": {
  "kernelspec": {
   "display_name": "Cryptography",
   "language": "python",
   "name": "cryptography"
  },
  "language_info": {
   "codemirror_mode": {
    "name": "ipython",
    "version": 3
   },
   "file_extension": ".py",
   "mimetype": "text/x-python",
   "name": "python",
   "nbconvert_exporter": "python",
   "pygments_lexer": "ipython3",
   "version": "3.9.0"
  }
 },
 "nbformat": 4,
 "nbformat_minor": 2
}
