{
 "cells": [
  {
   "cell_type": "code",
   "execution_count": null,
   "metadata": {},
   "outputs": [
    {
     "name": "stdout",
     "output_type": "stream",
     "text": [
      "Encoded Data: [1, 1, 1, 0, 0, 0, 0, 1]\n"
     ]
    }
   ],
   "source": [
    "# Define generator polynomials (rate 1/2 code)\n",
    "G1 = [1, 1, 1]  # Polynomial: 111\n",
    "G2 = [1, 0, 1]  # Polynomial: 101\n",
    "# Encoding function\n",
    "def encode_data(data):\n",
    "    state = [0, 0, 0]  # Initialize shift register state with three bits\n",
    "    encoded_data = []\n",
    "    for bit in data:\n",
    "        # Shift the register and add the new bit at the start\n",
    "        state = [bit] + state[:-1]\n",
    "\n",
    "        # Calculate output bits by XORing the state with the generator polynomials\n",
    "        out1 = state[0] ^ state[1] ^ state[2]  # XOR for G1\n",
    "        out2 = state[0] ^ state[2]             # XOR for G2\n",
    "\n",
    "        # Append the output bits to the encoded data\n",
    "        encoded_data.append(out1)\n",
    "        encoded_data.append(out2)\n",
    "    return encoded_data\n",
    "# Main program\n",
    "input_data = list(map(int, input(\"Enter binary data (e.g., 1011): \")))\n",
    "# Encode the data\n",
    "encoded_data = encode_data(input_data)\n",
    "print(\"Encoded Data:\", encoded_data)"
   ]
  }
 ],
 "metadata": {
  "kernelspec": {
   "display_name": "Cryptography",
   "language": "python",
   "name": "cryptography"
  },
  "language_info": {
   "codemirror_mode": {
    "name": "ipython",
    "version": 3
   },
   "file_extension": ".py",
   "mimetype": "text/x-python",
   "name": "python",
   "nbconvert_exporter": "python",
   "pygments_lexer": "ipython3",
   "version": "3.9.0"
  }
 },
 "nbformat": 4,
 "nbformat_minor": 2
}
