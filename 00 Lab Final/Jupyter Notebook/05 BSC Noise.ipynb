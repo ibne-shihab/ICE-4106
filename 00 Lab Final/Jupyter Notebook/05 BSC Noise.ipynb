{
 "cells": [
  {
   "cell_type": "code",
   "execution_count": 1,
   "metadata": {},
   "outputs": [],
   "source": [
    "import math"
   ]
  },
  {
   "cell_type": "code",
   "execution_count": 2,
   "metadata": {},
   "outputs": [],
   "source": [
    "def channel_capacity(matrix):\n",
    "    # Extract the error probability `p` from the matrix\n",
    "    p = matrix[0][1]  # `p` is the off-diagonal element in the first row\n",
    "    if p == 0 or p == 1:\n",
    "        return 0  # Capacity is zero when there's no uncertainty\n",
    "    return 1 + p * math.log2(p) + (1 - p) * math.log2(1 - p)"
   ]
  },
  {
   "cell_type": "code",
   "execution_count": 3,
   "metadata": {},
   "outputs": [],
   "source": [
    "def conditional_entropy(matrix):\n",
    "    p = matrix[0][1]\n",
    "    if p == 0 or p == 1:\n",
    "        return 0  # No entropy when probability is 0 or 1\n",
    "    return - (p * math.log2(p) + (1 - p) * math.log2(1 - p))"
   ]
  },
  {
   "cell_type": "code",
   "execution_count": 4,
   "metadata": {},
   "outputs": [],
   "source": [
    "def get_probability_input(prompt):\n",
    "    while True:\n",
    "        try:\n",
    "            value = eval(input(prompt))\n",
    "            if 0 <= value <= 1:\n",
    "                return value\n",
    "            else:\n",
    "                print(\"Please enter a number between 0 and 1.\")\n",
    "        except (ValueError, SyntaxError, NameError):\n",
    "            print(\"Invalid input. Please enter a valid number or fraction (e.g., 0.5 or 2/3).\")"
   ]
  },
  {
   "cell_type": "code",
   "execution_count": null,
   "metadata": {},
   "outputs": [
    {
     "name": "stdout",
     "output_type": "stream",
     "text": [
      "Enter the values for the binary symmetric channel noise matrix P(Y|X):\n"
     ]
    }
   ],
   "source": [
    "print(\"Enter the values for the binary symmetric channel noise matrix P(Y|X)\")"
   ]
  },
  {
   "cell_type": "code",
   "execution_count": null,
   "metadata": {},
   "outputs": [
    {
     "name": "stdout",
     "output_type": "stream",
     "text": [
      "Enter the values for the binary symmetric channel noise matrix P(Y|X):\n"
     ]
    }
   ],
   "source": [
    "\n",
    "One_one = get_probability_input(\"Enter P(Y=0|X=0): \")\n",
    "One_two = get_probability_input(\"Enter P(Y=0|X=1): \")\n",
    "two_one = get_probability_input(\"Enter P(Y=1|X=0): \")\n",
    "two_two = get_probability_input(\"Enter P(Y=1|X=1): \")\n",
    "matrix = [\n",
    "    [One_one, One_two],\n",
    "    [two_one, two_two]\n",
    "]"
   ]
  },
  {
   "cell_type": "code",
   "execution_count": 6,
   "metadata": {},
   "outputs": [
    {
     "name": "stdout",
     "output_type": "stream",
     "text": [
      "The Matrix is: [[0.6666666666666666, 0.3333333333333333], [0.3333333333333333, 0.6666666666666666]]\n",
      "Channel Capacity C: 0.0817041659455105\n",
      "Conditional Entropy H(Y|X): 0.9182958340544896\n"
     ]
    }
   ],
   "source": [
    "print(\"The Matrix is:\", matrix)\n",
    "\n",
    "# Calculate and display Channel Capacity\n",
    "capacity = channel_capacity(matrix)\n",
    "print(\"Channel Capacity C:\", capacity)\n",
    "\n",
    "# Calculate and display Conditional Entropy\n",
    "cond_entropy = conditional_entropy(matrix)\n",
    "print(\"Conditional Entropy H(Y|X):\", cond_entropy)"
   ]
  }
 ],
 "metadata": {
  "kernelspec": {
   "display_name": "Cryptography",
   "language": "python",
   "name": "cryptography"
  },
  "language_info": {
   "codemirror_mode": {
    "name": "ipython",
    "version": 3
   },
   "file_extension": ".py",
   "mimetype": "text/x-python",
   "name": "python",
   "nbconvert_exporter": "python",
   "pygments_lexer": "ipython3",
   "version": "3.9.0"
  }
 },
 "nbformat": 4,
 "nbformat_minor": 2
}
