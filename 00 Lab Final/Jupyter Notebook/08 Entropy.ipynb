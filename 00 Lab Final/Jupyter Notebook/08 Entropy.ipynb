{
 "cells": [
  {
   "cell_type": "code",
   "execution_count": null,
   "metadata": {},
   "outputs": [],
   "source": [
    "import numpy as np\n",
    "\n",
    "# Joint probability matrix as shown in the image\n",
    "matrix = np.array([\n",
    "    [1/8, 1/16, 1/32, 1/32],\n",
    "    [1/16, 1/8, 1/32, 1/32],\n",
    "    [1/16, 1/16, 1/16, 1/16],\n",
    "    [1/4, 0, 0, 0]\n",
    "])\n",
    "# Normalize the matrix to ensure the total sum is 1\n",
    "matrix = matrix / np.sum(matrix)"
   ]
  },
  {
   "cell_type": "code",
   "execution_count": null,
   "metadata": {},
   "outputs": [
    {
     "name": "stdout",
     "output_type": "stream",
     "text": [
      "The Marginal distribution of X is [0.5   0.25  0.125 0.125]\n",
      "The Marginal distribution of Y is [0.25 0.25 0.25 0.25]\n"
     ]
    }
   ],
   "source": [
    "# Marginal distribution of X and Y\n",
    "px = np.sum(matrix, axis=0)  # Sum across rows for P(X)\n",
    "py = np.sum(matrix, axis=1)  # Sum across columns for P(Y)\n",
    "print(\"The Marginal distribution of X is\",px)\n",
    "print(\"The Marginal distribution of Y is\",py)"
   ]
  },
  {
   "cell_type": "code",
   "execution_count": null,
   "metadata": {},
   "outputs": [],
   "source": [
    "def entropy(p):\n",
    "    return -np.sum(p * np.log2(p, where=(p > 0)))"
   ]
  },
  {
   "cell_type": "code",
   "execution_count": null,
   "metadata": {},
   "outputs": [],
   "source": [
    "def joint_entropy(matrix):\n",
    "    return -np.sum(matrix * np.log2(matrix, where=(matrix > 0)))"
   ]
  },
  {
   "cell_type": "code",
   "execution_count": null,
   "metadata": {},
   "outputs": [],
   "source": [
    "def conditional_entropy_X_given_Y(matrix, py):\n",
    "    conditional_entropy_value = 0\n",
    "    for j in range(len(py)):\n",
    "        if py[j] > 0:\n",
    "            # Calculate conditional distribution P(X|Y=j)\n",
    "            px_given_y = matrix[:, j] / py[j]\n",
    "            # Weight by P(Y=j) and add entropy for this distribution\n",
    "            conditional_entropy_value += py[j] * entropy(px_given_y)\n",
    "    return conditional_entropy_value"
   ]
  },
  {
   "cell_type": "code",
   "execution_count": null,
   "metadata": {},
   "outputs": [],
   "source": [
    "def conditional_entropy_Y_given_X(matrix, px):\n",
    "    conditional_entropy_value = 0\n",
    "    for i in range(len(px)):\n",
    "        if px[i] > 0:\n",
    "            # Calculate conditional distribution P(Y|X=i)\n",
    "            py_given_x = matrix[:, i] / px[i]\n",
    "            # Weight by P(X=i) and add entropy for this distribution\n",
    "            conditional_entropy_value += px[i] * entropy(py_given_x)\n",
    "    return conditional_entropy_value"
   ]
  },
  {
   "cell_type": "code",
   "execution_count": null,
   "metadata": {},
   "outputs": [],
   "source": [
    "def mutual_information(matrix, px, py):\n",
    "    px_py = np.outer(py, px)  # Outer product for P(X) * P(Y)\n",
    "    # Ensure no division by zero in log2 computation\n",
    "    return np.sum(matrix * np.log2(matrix / px_py, where=(matrix > 0) & (px_py > 0)))"
   ]
  },
  {
   "cell_type": "code",
   "execution_count": null,
   "metadata": {},
   "outputs": [
    {
     "name": "stdout",
     "output_type": "stream",
     "text": [
      "Entropy of X: 1.75\n",
      "Entropy of Y: 2.0\n",
      "Joint Entropy H(X, Y): 3.375\n",
      "Conditional Entropy H(X|Y): 1.375\n",
      "Conditional Entropy H(Y|X): 1.625\n",
      "Mutual Information I(X; Y): 0.375\n"
     ]
    }
   ],
   "source": [
    "# Calculate Entropies\n",
    "H_x = entropy(px)  # Entropy of X\n",
    "H_y = entropy(py)  # Entropy of Y\n",
    "H_xy = joint_entropy(matrix)  # Joint Entropy H(X, Y)\n",
    "H_x_given_y = conditional_entropy_X_given_Y(matrix, py)  # Conditional Entropy H(X|Y)\n",
    "H_y_given_x = conditional_entropy_Y_given_X(matrix, px)  # Conditional Entropy H(Y|X)\n",
    "I_xy = mutual_information(matrix, px, py)  # Mutual Information I(X; Y)\n",
    "\n",
    "# Print results\n",
    "print(\"Entropy of X:\", H_x)\n",
    "print(\"Entropy of Y:\", H_y)\n",
    "print(\"Joint Entropy H(X, Y):\", H_xy)\n",
    "print(\"Conditional Entropy H(X|Y):\", H_x_given_y)\n",
    "print(\"Conditional Entropy H(Y|X):\", H_y_given_x)\n",
    "print(\"Mutual Information I(X; Y):\", I_xy)\n"
   ]
  }
 ],
 "metadata": {
  "language_info": {
   "name": "python"
  }
 },
 "nbformat": 4,
 "nbformat_minor": 2
}
