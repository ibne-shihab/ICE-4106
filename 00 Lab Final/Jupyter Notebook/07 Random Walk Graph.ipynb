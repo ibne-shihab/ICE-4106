{
 "cells": [
  {
   "cell_type": "code",
   "execution_count": 1,
   "metadata": {},
   "outputs": [],
   "source": [
    "import math\n",
    "# Example graph with edge weights\n",
    "graph = {\n",
    "    'A': {'B': 1, 'C': 2, 'D': 1},\n",
    "    'B': {'A': 1, 'C': 1},\n",
    "    'C': {'A': 2, 'B': 1, 'D': 1},\n",
    "    'D': {'A': 1, 'C': 1}\n",
    "}"
   ]
  },
  {
   "cell_type": "code",
   "execution_count": 2,
   "metadata": {},
   "outputs": [],
   "source": [
    "def calculate_transition_probabilities(graph):\n",
    "    transitions = {}\n",
    "    for node, edges in graph.items():\n",
    "        total_weight = sum(edges.values())  # Sum of edge weights for this node\n",
    "        # For each neighbor, calculate the transition probability\n",
    "        transitions[node] = {neighbor: weight / total_weight for neighbor, weight in edges.items()}\n",
    "    return transitions"
   ]
  },
  {
   "cell_type": "code",
   "execution_count": 3,
   "metadata": {},
   "outputs": [],
   "source": [
    "def entropy_rate(transitions):\n",
    "    entropy = 0\n",
    "    # Sum the entropy of the transition probabilities for each node\n",
    "    for node, edges in transitions.items():\n",
    "        for prob in edges.values():\n",
    "            if prob > 0:\n",
    "                # Add -P * log2(P) for each transition probability\n",
    "                entropy += -prob * math.log2(prob)\n",
    "    # Average entropy over all nodes\n",
    "    return entropy / len(transitions)"
   ]
  },
  {
   "cell_type": "code",
   "execution_count": 4,
   "metadata": {},
   "outputs": [
    {
     "name": "stdout",
     "output_type": "stream",
     "text": [
      "Transition Probabilities:\n",
      "A: {'B': 0.25, 'C': 0.5, 'D': 0.25}\n",
      "B: {'A': 0.5, 'C': 0.5}\n",
      "C: {'A': 0.5, 'B': 0.25, 'D': 0.25}\n",
      "D: {'A': 0.5, 'C': 0.5}\n",
      "Entropy Rate of Random Walk: 1.25\n"
     ]
    }
   ],
   "source": [
    "# Example usage\n",
    "transitions = calculate_transition_probabilities(graph)\n",
    "rate = entropy_rate(transitions)\n",
    "# Print the transition probabilities for each node\n",
    "print(\"Transition Probabilities:\")\n",
    "for node, edges in transitions.items():\n",
    "    print(f\"{node}: {edges}\")\n",
    "# Print the entropy rate of the random walk\n",
    "print(\"Entropy Rate of Random Walk:\", rate)"
   ]
  }
 ],
 "metadata": {
  "kernelspec": {
   "display_name": "Cryptography",
   "language": "python",
   "name": "cryptography"
  },
  "language_info": {
   "codemirror_mode": {
    "name": "ipython",
    "version": 3
   },
   "file_extension": ".py",
   "mimetype": "text/x-python",
   "name": "python",
   "nbconvert_exporter": "python",
   "pygments_lexer": "ipython3",
   "version": "3.9.0"
  }
 },
 "nbformat": 4,
 "nbformat_minor": 2
}
